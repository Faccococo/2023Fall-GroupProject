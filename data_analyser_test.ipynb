{
 "cells": [
  {
   "cell_type": "code",
   "execution_count": null,
   "metadata": {},
   "outputs": [],
   "source": [
    "import pandas as pd\n",
    "import numpy as np\n",
    "from sklearn.model_selection import train_test_split\n",
    "from sklearn.ensemble import RandomForestRegressor\n",
    "from sklearn.metrics import mean_squared_error\n",
    "import ast\n",
    "\n",
    "\n",
    "# 1. 加载主数据集\n",
    "data = pd.read_csv(\"CarGroup/0.csv\",header=None)\n",
    "data"
   ]
  },
  {
   "cell_type": "code",
   "execution_count": null,
   "metadata": {},
   "outputs": [],
   "source": [
    "\n",
    "\n",
    "\n",
    "# 定义列名\n",
    "column_names = [\n",
    "    'vin','数据采集时间', '车辆状态', '充电状态', '运行模式', '车速', '累积里程', '总电压', '总电流',\n",
    "    'SOC', 'DC-DC状态', '档位', '绝缘电阻', '经度', '纬度', '电池单体电压最高值',\n",
    "    '电池单体电压最低值', '最高温度值', '最低温度值', '驱动电机序号', '驱动电机转速', '驱动电机转矩'\n",
    "]\n",
    "\n",
    "# 插入列名\n",
    "data.columns = column_names\n",
    "\n",
    "# 2. 主数据预处理\n",
    "# 处理数值数据的有效范围和异常值，删除包含不符合要求的值的行\n",
    "# data['车速'] = data['车速'].apply(lambda x: x * 0.1 if 0 <= x <= 2200 else None)  # 有效范围0~2200\n",
    "# data['累积里程'] = data['累积里程'].apply(lambda x: x * 0.1 if 0 <= x <= 9999999 else None)  # 有效范围0~9999999\n",
    "# data['总电压'] = data['总电压'].apply(lambda x: x * 0.1 if 0 <= x <= 10000 else None)  # 有效范围0~10000\n",
    "# data['总电流'] = data['总电流'].apply(lambda x: (x - 1000) * 0.1 if 0 <= x <= 20000 else None)  # 有效范围-1000A~1000A\n",
    "# data['SOC'] = data['SOC'].apply(lambda x: x if 0 <= x <= 100 else None)  # 有效范围0~100\n",
    "# data['绝缘电阻'] = data['绝缘电阻'].apply(lambda x: x * 1000 if 0 <= x <= 60000 else None)  # 有效范围0~60000\n",
    "# data['电池单体电压最高值'] = data['电池单体电压最高值'].apply(lambda x: x * 0.001 if 0 <= x <= 15000 else None)  # 有效范围0~15000\n",
    "# data['电池单体电压最低值'] = data['电池单体电压最低值'].apply(lambda x: x * 0.001 if 0 <= x <= 15000 else None)  # 有效范围0~15000\n",
    "# data['最高温度值'] = data['最高温度值'].apply(lambda x: x - 40 if 0 <= x <= 250 else None)  # 有效范围-40°C~+210°C\n",
    "# data['最低温度值'] = data['最低温度值'].apply(lambda x: x - 40 if 0 <= x <= 250 else None)  # 有效范围-40°C~+210°C\n",
    "# data['驱动电机转速'] = data['驱动电机转速'].apply(lambda x: x - 20000 if 0 <= x <= 65531 else None)  # 有效范围-20000r/min~45531r/min\n",
    "# data['驱动电机转矩'] = data['驱动电机转矩'].apply(lambda x: (x - 2000) * 0.1 if 0 <= x <= 65531 else None)  # 有效范围-2000N·m~4553.1N·m\n",
    "\n",
    "\n",
    "# # 将主数据中包含方括号的字符串转换为数值列表\n",
    "# data['驱动电机序号'] = data['驱动电机序号'].apply(lambda x: ast.literal_eval(x))\n",
    "# data['驱动电机转速'] = data['驱动电机转速'].apply(lambda x: ast.literal_eval(x))\n",
    "# data['驱动电机转矩'] = data['驱动电机转矩'].apply(lambda x: ast.literal_eval(x))\n",
    "\n",
    "# # 遍历来获得所有列的唯一值\n",
    "# for column in data.columns:\n",
    "#     unique_values = data[column].unique()\n",
    "#     print(f\"Column {column} unique values: {unique_values}\")\n",
    "\n",
    "data"
   ]
  },
  {
   "cell_type": "code",
   "execution_count": null,
   "metadata": {},
   "outputs": [],
   "source": [
    "data2 = pd.read_csv(\"trip_data.csv\")\n",
    "data2 = data2[:25]\n",
    "\n",
    "# 筛选出第二个数据集中 trip_kind 列值为 'D' 的数据\n",
    "filtered_data2 = data2[data2['trip_kind'] == 'D']\n",
    "\n",
    "# 初始化一个空的DataFrame，用于存储筛选后的结果\n",
    "final_data = pd.DataFrame(columns=data.columns)\n",
    "\n",
    "# 遍历第一个数据集\n",
    "for index, row in data.iterrows():\n",
    "    vin = row['vin']\n",
    "    collection_time = pd.to_datetime(row['数据采集时间'])\n",
    "\n",
    "    # 查找是否有相同 vin 值的数据在第二个数据集中\n",
    "    matching_data2 = filtered_data2[filtered_data2['vin'] == vin]\n",
    "\n",
    "    # 遍历匹配的数据\n",
    "    for _, matching_row in matching_data2.iterrows():\n",
    "        start_time = pd.to_datetime(matching_row['start_collectiontime'])\n",
    "        end_time = pd.to_datetime(matching_row['end_collectiontime'])\n",
    "\n",
    "        # 如果数据采集时间在 start_time 和 end_time 之间，将该行添加到结果DataFrame\n",
    "        if start_time <= collection_time <= end_time:\n",
    "            matching_row['index'] = matching_row['unnamed']  # 添加'index'列\n",
    "            final_data = final_data.append(matching_row, ignore_index=True)\n",
    "\n",
    "# 打印筛选后的结果\n",
    "print(final_data)"
   ]
  },
  {
   "cell_type": "code",
   "execution_count": null,
   "metadata": {},
   "outputs": [],
   "source": [
    "pd.to_csv(final_data,\"final_data.csv\")"
   ]
  }
 ],
 "metadata": {
  "kernelspec": {
   "display_name": "base",
   "language": "python",
   "name": "python3"
  },
  "language_info": {
   "codemirror_mode": {
    "name": "ipython",
    "version": 3
   },
   "file_extension": ".py",
   "mimetype": "text/x-python",
   "name": "python",
   "nbconvert_exporter": "python",
   "pygments_lexer": "ipython3",
   "version": "3.11.5"
  },
  "orig_nbformat": 4
 },
 "nbformat": 4,
 "nbformat_minor": 2
}
